{
 "cells": [
  {
   "cell_type": "code",
   "execution_count": null,
   "metadata": {},
   "outputs": [],
   "source": []
  },
  {
   "cell_type": "code",
   "execution_count": null,
   "metadata": {},
   "outputs": [],
   "source": []
  },
  {
   "cell_type": "code",
   "execution_count": null,
   "metadata": {},
   "outputs": [],
   "source": []
  },
  {
   "cell_type": "code",
   "execution_count": null,
   "metadata": {},
   "outputs": [],
   "source": [
    "if __name__ == \"__main__\":\n",
    "    primer_vector = [float(x) for x in input(\"Ingresa la cantidad de componentes del primer vector separados por espacios: \").split()]\n",
    "    segundo_vector = [float(x) for x in input(\"Ingresa la cantidad de componentes del segundo vector separados por espacios: \").split()]\n",
    "\n",
    "    longitud = min(len(primer_vector), len(segundo_vector))\n",
    "    producto_punto = sum(primer_vector[i] * segundo_vector[i] for i in range(longitud))\n",
    "\n",
    "    print(f\"El producto punto de los vectores es: {producto_punto}\")"
   ]
  }
 ],
 "metadata": {
  "kernelspec": {
   "display_name": "Python 3",
   "language": "python",
   "name": "python3"
  },
  "language_info": {
   "name": "python",
   "version": "3.12.2"
  }
 },
 "nbformat": 4,
 "nbformat_minor": 2
}
